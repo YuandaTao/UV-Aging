{
 "cells": [
  {
   "cell_type": "code",
   "execution_count": 1,
   "id": "42b55792-4ec6-4030-8a71-5051c858948e",
   "metadata": {},
   "outputs": [],
   "source": [
    "import numpy as np  \n",
    "import pandas as pd\n",
    "from rdkit import Chem\n",
    "from rdkit.Chem import AllChem\n",
    "import torch\n",
    "import torch.nn as nn\n",
    "from torch.utils.data import DataLoader, TensorDataset\n",
    "from sklearn.metrics import mean_squared_error\n",
    "from sklearn.preprocessing import StandardScaler\n",
    "from sklearn.model_selection import train_test_split\n",
    "import matplotlib.pyplot as plt  \n",
    "import matplotlib"
   ]
  },
  {
   "cell_type": "code",
   "execution_count": 3,
   "id": "2728d24f-0542-4220-a70f-cdf66d61fc5d",
   "metadata": {},
   "outputs": [],
   "source": [
    "device = torch.device(\"cuda:2\")"
   ]
  },
  {
   "cell_type": "code",
   "execution_count": 4,
   "id": "33abd085-f419-476f-950f-1a5d523fbc4e",
   "metadata": {},
   "outputs": [],
   "source": [
    "class CustomTransformerModel(nn.Module):\n",
    "    def __init__(self, input_size, output_size, d_models, nheads, dropouts,nn_nodes,nn_dropout):\n",
    "        super(CustomTransformerModel, self).__init__()\n",
    "        self.input_fc = nn.Linear(input_size, d_models[0])\n",
    "        \n",
    "        \n",
    "        self.encoder_layers = nn.ModuleList([\n",
    "            nn.TransformerEncoderLayer(\n",
    "                d_model=d_models[i], \n",
    "                nhead=nheads[i], \n",
    "                dropout=dropouts[i],\n",
    "                activation='relu'  \n",
    "            )\n",
    "            for i in range(len(d_models))\n",
    "        ])\n",
    "\n",
    "\n",
    "        self.intermediate_fc = nn.Linear(d_models[-1], nn_nodes)  \n",
    "        self.intermediate_activation = nn.ReLU() \n",
    "        self.dropout = nn.Dropout(p=nn_dropout) \n",
    "        \n",
    "\n",
    "        self.output_fc = nn.Linear(d_models[0], output_size)\n",
    "        \n",
    "        \n",
    "    def forward(self, x):\n",
    "        x = self.input_fc(x)\n",
    "        \n",
    "\n",
    "        for layer in self.encoder_layers:\n",
    "            x = layer(x)\n",
    "        \n",
    "        x = self.output_fc(x)\n",
    "        return x\n",
    "\n",
    "\n",
    "input_size = 1024\n",
    "output_size = 300\n",
    "d_models = [1024, 1024, 1024, 1024, 1024, 1024, 1024]\n",
    "nheads = [4, 4, 4, 4, 4, 4, 4]\n",
    "nn_nodes = 256\n",
    "dropouts = [0.3, 0.3, 0.3, 0.3, 0.3, 0.3, 0.3]  \n",
    "nn_dropout = 0.1\n",
    "\n",
    "\n",
    "model = CustomTransformerModel(input_size, output_size, d_models, nheads, dropouts,nn_nodes,nn_dropout)\n",
    "\n",
    "\n",
    "def train_model(model, train_loader, test_loader, criterion, optimizer, epochs):\n",
    "    train_losses = []\n",
    "    test_losses = []\n",
    "    for epoch in range(epochs):\n",
    "        model.train()\n",
    "        running_loss = 0.0\n",
    "        for features, targets in train_loader:\n",
    "            features, targets = features.to(device), targets.to(device)  # 移动到GPU\n",
    "            optimizer.zero_grad()\n",
    "            outputs = model(features)\n",
    "            loss = criterion(outputs, targets)\n",
    "            loss.backward()\n",
    "            optimizer.step()\n",
    "            running_loss += loss.item()\n",
    "        \n",
    "        epoch_loss = running_loss / len(train_loader)\n",
    "        train_losses.append(epoch_loss)\n",
    "\n",
    "\n",
    "        model.eval()  \n",
    "        test_loss = 0.0\n",
    "        \n",
    "        with torch.no_grad():\n",
    "            for features, targets in test_loader:\n",
    "                features, targets = features.to(device), targets.to(device)  # 移动到GPU\n",
    "                outputs = model(features)\n",
    "                loss = criterion(outputs, targets)\n",
    "                test_loss += loss.item()\n",
    "        \n",
    "        avg_test_loss = test_loss / len(test_loader)\n",
    "        test_losses.append(avg_test_loss)\n",
    "        \n",
    "\n",
    "        print(f\"Epoch [{epoch+1}/{epochs}], Train Loss: {epoch_loss:.8f}, Test Loss: {avg_test_loss:.8f}\")\n",
    "    \n",
    "    return train_losses, test_losses\n",
    "\n",
    "\n",
    "\n",
    "def predict_and_evaluate(loader, model, dataset_type=\"Test\"):\n",
    "    model.eval()  \n",
    "    predictions = []\n",
    "    targets = []\n",
    "    with torch.no_grad():\n",
    "        for features, target in loader:\n",
    "            output = model(features)\n",
    "            predictions.append(output.numpy())\n",
    "            targets.append(target.numpy())\n",
    "    \n",
    "    predictions = np.concatenate(predictions, axis=0)\n",
    "    targets = np.concatenate(targets, axis=0)\n",
    "    rmse = np.sqrt(mean_squared_error(targets, predictions))\n",
    "    print(f\"{dataset_type} RMSE: {rmse}\")\n",
    "    return predictions, targets"
   ]
  },
  {
   "cell_type": "code",
   "execution_count": 14,
   "id": "4f255f5f-363c-4f30-91c3-00371a973034",
   "metadata": {},
   "outputs": [],
   "source": [
    "data = pd.read_csv('morgan_fingerprints9196.csv')\n",
    "feature = data.iloc[:, :].values\n",
    "feature_tensor = torch.tensor(feature, dtype=torch.float32)"
   ]
  },
  {
   "cell_type": "code",
   "execution_count": 5,
   "id": "1f866201-d802-48a6-9a11-29e4accb8056",
   "metadata": {},
   "outputs": [],
   "source": [
    "batch_size = 16\n",
    "\n",
    "input_size = 1024 \n",
    "output_size = 300  \n",
    "model = CustomTransformerModel(input_size=input_size, output_size=output_size,d_models=d_models,nheads=nheads,dropouts=dropouts,nn_nodes=nn_nodes,nn_dropout=nn_dropout).to(device)\n",
    "criterion = nn.MSELoss()\n",
    "optimizer = torch.optim.Adam(model.parameters(), lr=0.00001)"
   ]
  },
  {
   "cell_type": "code",
   "execution_count": 6,
   "id": "87791a5c-f374-4a1d-a1e6-03f2915b6a23",
   "metadata": {
    "scrolled": true
   },
   "outputs": [
    {
     "data": {
      "text/plain": [
       "CustomTransformerModel(\n",
       "  (input_fc): Linear(in_features=1024, out_features=1024, bias=True)\n",
       "  (encoder_layers): ModuleList(\n",
       "    (0): TransformerEncoderLayer(\n",
       "      (self_attn): MultiheadAttention(\n",
       "        (out_proj): NonDynamicallyQuantizableLinear(in_features=1024, out_features=1024, bias=True)\n",
       "      )\n",
       "      (linear1): Linear(in_features=1024, out_features=2048, bias=True)\n",
       "      (dropout): Dropout(p=0.3, inplace=False)\n",
       "      (linear2): Linear(in_features=2048, out_features=1024, bias=True)\n",
       "      (norm1): LayerNorm((1024,), eps=1e-05, elementwise_affine=True)\n",
       "      (norm2): LayerNorm((1024,), eps=1e-05, elementwise_affine=True)\n",
       "      (dropout1): Dropout(p=0.3, inplace=False)\n",
       "      (dropout2): Dropout(p=0.3, inplace=False)\n",
       "    )\n",
       "    (1): TransformerEncoderLayer(\n",
       "      (self_attn): MultiheadAttention(\n",
       "        (out_proj): NonDynamicallyQuantizableLinear(in_features=1024, out_features=1024, bias=True)\n",
       "      )\n",
       "      (linear1): Linear(in_features=1024, out_features=2048, bias=True)\n",
       "      (dropout): Dropout(p=0.3, inplace=False)\n",
       "      (linear2): Linear(in_features=2048, out_features=1024, bias=True)\n",
       "      (norm1): LayerNorm((1024,), eps=1e-05, elementwise_affine=True)\n",
       "      (norm2): LayerNorm((1024,), eps=1e-05, elementwise_affine=True)\n",
       "      (dropout1): Dropout(p=0.3, inplace=False)\n",
       "      (dropout2): Dropout(p=0.3, inplace=False)\n",
       "    )\n",
       "    (2): TransformerEncoderLayer(\n",
       "      (self_attn): MultiheadAttention(\n",
       "        (out_proj): NonDynamicallyQuantizableLinear(in_features=1024, out_features=1024, bias=True)\n",
       "      )\n",
       "      (linear1): Linear(in_features=1024, out_features=2048, bias=True)\n",
       "      (dropout): Dropout(p=0.3, inplace=False)\n",
       "      (linear2): Linear(in_features=2048, out_features=1024, bias=True)\n",
       "      (norm1): LayerNorm((1024,), eps=1e-05, elementwise_affine=True)\n",
       "      (norm2): LayerNorm((1024,), eps=1e-05, elementwise_affine=True)\n",
       "      (dropout1): Dropout(p=0.3, inplace=False)\n",
       "      (dropout2): Dropout(p=0.3, inplace=False)\n",
       "    )\n",
       "    (3): TransformerEncoderLayer(\n",
       "      (self_attn): MultiheadAttention(\n",
       "        (out_proj): NonDynamicallyQuantizableLinear(in_features=1024, out_features=1024, bias=True)\n",
       "      )\n",
       "      (linear1): Linear(in_features=1024, out_features=2048, bias=True)\n",
       "      (dropout): Dropout(p=0.3, inplace=False)\n",
       "      (linear2): Linear(in_features=2048, out_features=1024, bias=True)\n",
       "      (norm1): LayerNorm((1024,), eps=1e-05, elementwise_affine=True)\n",
       "      (norm2): LayerNorm((1024,), eps=1e-05, elementwise_affine=True)\n",
       "      (dropout1): Dropout(p=0.3, inplace=False)\n",
       "      (dropout2): Dropout(p=0.3, inplace=False)\n",
       "    )\n",
       "    (4): TransformerEncoderLayer(\n",
       "      (self_attn): MultiheadAttention(\n",
       "        (out_proj): NonDynamicallyQuantizableLinear(in_features=1024, out_features=1024, bias=True)\n",
       "      )\n",
       "      (linear1): Linear(in_features=1024, out_features=2048, bias=True)\n",
       "      (dropout): Dropout(p=0.3, inplace=False)\n",
       "      (linear2): Linear(in_features=2048, out_features=1024, bias=True)\n",
       "      (norm1): LayerNorm((1024,), eps=1e-05, elementwise_affine=True)\n",
       "      (norm2): LayerNorm((1024,), eps=1e-05, elementwise_affine=True)\n",
       "      (dropout1): Dropout(p=0.3, inplace=False)\n",
       "      (dropout2): Dropout(p=0.3, inplace=False)\n",
       "    )\n",
       "    (5): TransformerEncoderLayer(\n",
       "      (self_attn): MultiheadAttention(\n",
       "        (out_proj): NonDynamicallyQuantizableLinear(in_features=1024, out_features=1024, bias=True)\n",
       "      )\n",
       "      (linear1): Linear(in_features=1024, out_features=2048, bias=True)\n",
       "      (dropout): Dropout(p=0.3, inplace=False)\n",
       "      (linear2): Linear(in_features=2048, out_features=1024, bias=True)\n",
       "      (norm1): LayerNorm((1024,), eps=1e-05, elementwise_affine=True)\n",
       "      (norm2): LayerNorm((1024,), eps=1e-05, elementwise_affine=True)\n",
       "      (dropout1): Dropout(p=0.3, inplace=False)\n",
       "      (dropout2): Dropout(p=0.3, inplace=False)\n",
       "    )\n",
       "    (6): TransformerEncoderLayer(\n",
       "      (self_attn): MultiheadAttention(\n",
       "        (out_proj): NonDynamicallyQuantizableLinear(in_features=1024, out_features=1024, bias=True)\n",
       "      )\n",
       "      (linear1): Linear(in_features=1024, out_features=2048, bias=True)\n",
       "      (dropout): Dropout(p=0.3, inplace=False)\n",
       "      (linear2): Linear(in_features=2048, out_features=1024, bias=True)\n",
       "      (norm1): LayerNorm((1024,), eps=1e-05, elementwise_affine=True)\n",
       "      (norm2): LayerNorm((1024,), eps=1e-05, elementwise_affine=True)\n",
       "      (dropout1): Dropout(p=0.3, inplace=False)\n",
       "      (dropout2): Dropout(p=0.3, inplace=False)\n",
       "    )\n",
       "  )\n",
       "  (intermediate_fc): Linear(in_features=1024, out_features=256, bias=True)\n",
       "  (intermediate_activation): ReLU()\n",
       "  (dropout): Dropout(p=0.1, inplace=False)\n",
       "  (output_fc): Linear(in_features=1024, out_features=300, bias=True)\n",
       ")"
      ]
     },
     "execution_count": 6,
     "metadata": {},
     "output_type": "execute_result"
    }
   ],
   "source": [
    "# 加载模型进行预测\n",
    "loaded_model = CustomTransformerModel(input_size, output_size, d_models, nheads, dropouts,nn_nodes,nn_dropout)\n",
    "model_save_path = 'tf_uv.pth'\n",
    "\n",
    "\n",
    "loaded_model.load_state_dict(torch.load(model_save_path))\n",
    "loaded_model.eval() "
   ]
  },
  {
   "cell_type": "code",
   "execution_count": 15,
   "id": "e765f20f-e103-434d-860a-a1d2ecc43c39",
   "metadata": {},
   "outputs": [],
   "source": [
    "with torch.no_grad():\n",
    "    predictions = loaded_model(feature_tensor)"
   ]
  },
  {
   "cell_type": "code",
   "execution_count": 16,
   "id": "e1a709ae-95e4-4a59-a29f-b686e57003d3",
   "metadata": {},
   "outputs": [],
   "source": [
    "predictions_numpy = predictions.cpu().numpy()"
   ]
  },
  {
   "cell_type": "code",
   "execution_count": 17,
   "id": "d3367c52-fb77-405c-a243-eebad8524f4f",
   "metadata": {},
   "outputs": [],
   "source": [
    "np.savetxt('predictions9196.txt', predictions_numpy, delimiter=' ', fmt='%sf')"
   ]
  },
  {
   "cell_type": "code",
   "execution_count": 18,
   "id": "101521cf-43c0-440e-8437-763788293fc3",
   "metadata": {},
   "outputs": [],
   "source": [
    "target_data = pd.read_csv('predictions9196.txt', header=None, delim_whitespace=True)"
   ]
  },
  {
   "cell_type": "code",
   "execution_count": 19,
   "id": "0d928a8c-b912-45fa-8b72-6371a96a168f",
   "metadata": {},
   "outputs": [],
   "source": [
    "x = np.arange(0,800,2.66756)"
   ]
  },
  {
   "cell_type": "code",
   "execution_count": 20,
   "id": "88612cbe-46ed-4e16-b3a3-176ed63ffc21",
   "metadata": {},
   "outputs": [],
   "source": [
    "import matplotlib as mpl\n",
    "import matplotlib.pyplot as plt  \n",
    "import matplotlib\n",
    "mpl.rcParams['font.family'] = 'Arial'\n",
    "mpl.rcParams['mathtext.fontset'] = 'custom'\n",
    "mpl.rcParams['mathtext.rm'] = 'Arial'\n",
    "mpl.rcParams['mathtext.it'] = 'Arial:italic'\n",
    "mpl.rcParams['mathtext.bf'] = 'Arial:bold'"
   ]
  },
  {
   "cell_type": "code",
   "execution_count": 21,
   "id": "c65e3e12-f1c0-499b-8aee-6713a86df3c6",
   "metadata": {},
   "outputs": [
    {
     "data": {
      "text/plain": [
       "<function matplotlib.pyplot.show(close=None, block=None)>"
      ]
     },
     "execution_count": 21,
     "metadata": {},
     "output_type": "execute_result"
    },
    {
     "data": {
      "image/png": "[encoded data removed]",
      "text/plain": [
       "<Figure size 700x700 with 1 Axes>"
      ]
     },
     "metadata": {},
     "output_type": "display_data"
    }
   ],
   "source": [
    "fig, ax = plt.subplots(figsize=(7, 7))\n",
    "\n",
    "show_num = 0\n",
    "\n",
    "plt.plot(x, predictions_numpy[show_num, :]*134549.671, c='#8A2BE2', label='Pred',linewidth=4)\n",
    "\n",
    "plt.xlim(0, 800)\n",
    "\n",
    "\n",
    "\n",
    "ax.set_xticks(list(range(0, 801, 200)))\n",
    "\n",
    "\n",
    "#plt.savefig(f'{show_num}.png', bbox_inches='tight', dpi=300)\n",
    "plt.show"
   ]
  },
  {
   "cell_type": "code",
   "execution_count": null,
   "id": "18108e40-e6b0-4545-ae98-fad641af0dd8",
   "metadata": {},
   "outputs": [],
   "source": []
  }
 ],
 "metadata": {
  "kernelspec": {
   "display_name": "Python 3 (ipykernel)",
   "language": "python",
   "name": "python3"
  },
  "language_info": {
   "codemirror_mode": {
    "name": "ipython",
    "version": 3
   },
   "file_extension": ".py",
   "mimetype": "text/x-python",
   "name": "python",
   "nbconvert_exporter": "python",
   "pygments_lexer": "ipython3",
   "version": "3.9.19"
  }
 },
 "nbformat": 4,
 "nbformat_minor": 5
}
